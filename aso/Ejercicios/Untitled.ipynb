{
 "cells": [
  {
   "cell_type": "markdown",
   "metadata": {},
   "source": [
    "# Ejercicios Módulo 1. Sesión 1: Compilación\n",
    "\n",
    "## Objetivo\n",
    "\n",
    "El objetivo de esta hoja de ejercicios es familiarizarnos con el entorno y, concretamente, con el *toolchain* de compilación que usaremos.  Específicamente, buscamos trabajar:\n",
    "\n",
    "- Compilación en línea de comandos usando *gcc*: *flags* de compilación, etapas del proceso...\n",
    "- Sintáxis de *Makefile*: creación de nuestros propios ficheros *Makefile*\n",
    "- Estructura de ficheros *ELF*\n",
    "\n",
    "## Ficheros de partida\n",
    "\n",
    "Para realizar todos los ejercicios, se partirá del código fuente disponible en el Campus Virtual que consta de los siguientes ficheros:\n",
    "\n",
    "- `main.c` fichero principal con la función *main*.\n",
    "- `sincos.c`  fichero que implementa las funciones *sinDeg* y *cosDeg* que calcula el seno y el coseno recibiendo el ángulo en grados (y no en radianes).\n",
    "- `asinacos.c` similar al anterior, pero para las funciones arcoseno y arcocoseno\n",
    "- `aux.c` implementa la función *checkPita* que comprueba la identidad pitagórica: $$sen^2(x) + cos^2(x)=1$$\n",
    "- `trigo_grados.h`fichero de cabecera de nuestras funcriones trigonométricas\n",
    "- `aux.h` fichero de cabecera para *checkPita* y otros símbolos exportados.\n",
    "\n",
    "## Ejercicios\n",
    "\n",
    "- **Ejercicio 1**  Generar el ejecutable a partir de los ficheros fuentes utilizando el compilador *gcc*    \n",
    "    - *Compilación*: genera cada uno de los ficheros objeto (*Relocatable ELF* con extensión *.o*). ¿Qué línea de comando debes usar en la compilación de cada uno de ellos  ?\n",
    "    - *Preprocesador*: ¿Qué opción debes usar para indicar que sólo se ejectue el pre-procesador? Realiza esta acción sobre *aux.c*\n",
    "    - *Enlazado*: genera el ejectubale a partir de los cuatro ficheros *.o*. ¿Qué línea de comando debes usar para que el enlazador genere el fichero *ELF* ejecuta\n",
    "   \n",
    "- **Ejercicio 2**  Escribe un fichero *Makefile* que, usando dos reglas, genere el ejecutable\n",
    "\n",
    "- **Ejercicio 3**  Crear una librería estática y una dinámica a partir de los ficheros `sincos.c` y `asincos.c`. Crea una carpeta *lib* y mueve allí ambas librerías (`libtrigo.a` y `libtrigo.so`). \n",
    "\n",
    "- **Ejercicio 4**  Modifica el *Makefile* del Ejercicio 2 para que use la librerías creada en el ejercicio anterior. Por defecto se utilizará la librería dinámica. Si se invoca mediante `make static` se enlazará estáticamente. \n",
    "\n",
    "## Cuestiones\n",
    "\n",
    "Responde a las siguientes cuestiones en un fichero de texto y entrégalo a través del Campus Virtual\n",
    "\n",
    "- **Cuestión 1** Utiliza la herramienta *file* con el fichero ejecutable y con *main.o*. ¿Qué diferencias observas?\n",
    "\n",
    "- **Cuestión 2** Utiliza la herramienta *ldd* con el fichero ejecutable compilado dinámicamente y con el compilado estáticamente. ¿Hay diferencia?\n",
    "\n",
    "- **Cuestión 3** Trata de ejecutar el ELF generado en el ejercicio 4 enlazado dinámicamente. ¿Funciona? Si no es así, ¿qué mensaje de error se obtiene? ¿Por qué?¿Cómo se puede corregir? Si funcionó, ¿qué tuviste en cuenta durante el enlazado o la ejecución para que así fuese? \n",
    "\n",
    "\n",
    "- **Cuestión 4** La herramienta *readelf* permite examinar un fichero en format *ELF*, interpretando parte de su contenido. Vamos a probar alguna de sus funcionalidades con nuestro ejemplo:\n",
    "    - Ejecuta `readelf -h` con el fichero ejecutable y con *main.o*. ¿Qué diferencias observas?\n",
    "    - Ejecuta `readelf -S` con el fichero *main.o*. ¿Coincide la información del número de secciones?\n",
    "    - ¿Qué símbolos crees que importa el fichero *aux.o*? ¿Cuáles exporta?\n",
    "    - Ejectua `readelf -s aux.o`y trata de interpretar el resultado. Utiliza también el comando `nm aux.o` y compara el resultado.\n",
    "    - Ejecuta `readelf -x .rodata main.o` para ver el contenido de la sección *.rodata. ¿Qué observas?\n",
    "    - Trata de averiguar en qué secciones se ubican las variables `cad` y `nada` de *main.o*. Cambia ahora la inicialización de la variable `nada` a 0 y recompila. ¿Sigue ubicada en la misma sección?\n",
    "\n",
    "- **Cuestión 5** Ejecuta `objdump -S <ejecuable>`. ¿Qué se obtiene como salida?"
   ]
  },
  {
   "cell_type": "code",
   "execution_count": null,
   "metadata": {},
   "outputs": [],
   "source": []
  }
 ],
 "metadata": {
  "kernelspec": {
   "display_name": "C",
   "language": "c",
   "name": "c"
  },
  "language_info": {
   "file_extension": ".c",
   "mimetype": "text/plain",
   "name": "c"
  }
 },
 "nbformat": 4,
 "nbformat_minor": 2
}
