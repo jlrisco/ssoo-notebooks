{
 "cells": [
  {
   "cell_type": "markdown",
   "metadata": {},
   "source": [
    "Vamos a compilar y ejecutar el siguiente ejemplo:\n",
    "\n",
    "    gcc carretero-ejemplo-3.14-6.c -lpthread    "
   ]
  },
  {
   "cell_type": "code",
   "execution_count": 3,
   "metadata": {},
   "outputs": [
    {
     "name": "stdout",
     "output_type": "stream",
     "text": [
      "El thread principal continúa\n",
      "Thread 140325716932352\n",
      "Thread 140325725325056\n"
     ]
    }
   ],
   "source": [
    "//%cflags:-lpthread\n",
    "\n",
    "#include <pthread.h>\n",
    "#include <stdio.h>\n",
    "\n",
    "void* func(void* arg) {\n",
    "  printf(\"Thread %lu\\n\", pthread_self());\n",
    "  pthread_exit(0);\n",
    "}\n",
    "\n",
    "int main(void) {\n",
    "  pthread_t th1, th2;\n",
    "  \n",
    "  pthread_create(&th1, NULL, func, NULL);\n",
    "  pthread_create(&th2, NULL, func, NULL);\n",
    "  \n",
    "  printf(\"El thread principal continúa\\n\");\n",
    "\n",
    "  pthread_join(th1, NULL);\n",
    "  pthread_join(th2, NULL);\n",
    "  \n",
    "  return 0;\n",
    "}"
   ]
  },
  {
   "cell_type": "markdown",
   "metadata": {},
   "source": [
    "En el siguiente ejemplo hacemos uso de los argumentos:\n",
    "\n",
    "    gcc thread1.c -lpthread"
   ]
  },
  {
   "cell_type": "code",
   "execution_count": 4,
   "metadata": {},
   "outputs": [
    {
     "name": "stdout",
     "output_type": "stream",
     "text": [
      "Waiting for thread to finish...\n",
      "Thread_function is running. Argument was Hello World\n",
      "Thread joined, it returned Thank you for the CPU time\n",
      "Message is now Bye!\n"
     ]
    }
   ],
   "source": [
    "//%cflags:-lpthread\n",
    "\n",
    "#include <stdio.h>\n",
    "#include <unistd.h>\n",
    "#include <stdlib.h>\n",
    "#include <string.h>\n",
    "#include <pthread.h>\n",
    "\n",
    "void *thread_function(void *arg);\n",
    "char message[] = \"Hello World\";\n",
    "\n",
    "int main() {\n",
    "  int res;\n",
    "  pthread_t a_thread;\n",
    "  void *thread_result;\n",
    "  res = pthread_create(&a_thread, NULL, thread_function, (void *)message);\n",
    "  if (res != 0) {\n",
    "    perror(\"Thread creation failed\");\n",
    "    exit(EXIT_FAILURE);\n",
    "  }\n",
    "  printf(\"Waiting for thread to finish...\\n\");\n",
    "  res = pthread_join(a_thread, &thread_result);\n",
    "  if (res != 0) {\n",
    "    perror(\"Thread join failed\");\n",
    "    exit(EXIT_FAILURE);\n",
    "  }\n",
    "  printf(\"Thread joined, it returned %s\\n\", (char *)thread_result);\n",
    "  printf(\"Message is now %s\\n\", message);\n",
    "  exit(EXIT_SUCCESS);\n",
    "}\n",
    "\n",
    "void *thread_function(void *arg) {\n",
    "  printf(\"Thread_function is running. Argument was %s\\n\", (char *)arg);\n",
    "  sleep(3);\n",
    "  strcpy(message, \"Bye!\");\n",
    "  pthread_exit(\"Thank you for the CPU time\");\n",
    "}\n"
   ]
  },
  {
   "cell_type": "markdown",
   "metadata": {},
   "source": [
    "En el siguiente ejemplo veremos cómo realizar una ejecución simultánea de dos hebras, lo que nos llevará de forma automática a la sincronización en el módulo 3.3"
   ]
  },
  {
   "cell_type": "code",
   "execution_count": 5,
   "metadata": {},
   "outputs": [
    {
     "name": "stdout",
     "output_type": "stream",
     "text": [
      "12121212121212121212\n",
      "Waiting for thread to finish...\n",
      "Thread joined\n"
     ]
    }
   ],
   "source": [
    "//%cflags:-lpthread\n",
    "\n",
    "#include <stdio.h>\n",
    "#include <unistd.h>\n",
    "#include <stdlib.h>\n",
    "#include <pthread.h>\n",
    "\n",
    "// SEVERE: Por simiplicidad, omitimos todas las comprobaciones de error.\n",
    "void *thread_function(void *arg);\n",
    "int run_now = 1;\n",
    "char message[] = \"Hello World\";\n",
    "\n",
    "int main() {\n",
    "  int res;\n",
    "  pthread_t a_thread;\n",
    "  void *thread_result;\n",
    "  int print_count1 = 0;\n",
    "  \n",
    "  res = pthread_create(&a_thread, NULL, thread_function, (void *)message);\n",
    "  \n",
    "  while(print_count1++ < 20) {\n",
    "    if (run_now == 1) {\n",
    "      printf(\"1\");\n",
    "      fflush(stdout);\n",
    "      run_now = 2;\n",
    "    }\n",
    "    else {\n",
    "      sleep(1);\n",
    "    }\n",
    "  }\n",
    "  \n",
    "  printf(\"\\nWaiting for thread to finish...\\n\");\n",
    "  res = pthread_join(a_thread, &thread_result);\n",
    "  printf(\"Thread joined\\n\");\n",
    "  exit(EXIT_SUCCESS);\n",
    "}\n",
    "\n",
    "void *thread_function(void *arg) {\n",
    "  int print_count2 = 0;\n",
    "  \n",
    "  while(print_count2++ < 20) {\n",
    "    if (run_now == 2) {\n",
    "      printf(\"2\");\n",
    "      fflush(stdout);\n",
    "      run_now = 1;\n",
    "    }\n",
    "    else {\n",
    "      sleep(1);\n",
    "    }\n",
    "  }\n",
    "  sleep(3);\n",
    "  pthread_exit(0);\n",
    "}"
   ]
  }
 ],
 "metadata": {
  "kernelspec": {
   "display_name": "C",
   "language": "c",
   "name": "c"
  },
  "language_info": {
   "file_extension": ".c",
   "mimetype": "text/plain",
   "name": "c"
  }
 },
 "nbformat": 4,
 "nbformat_minor": 2
}
