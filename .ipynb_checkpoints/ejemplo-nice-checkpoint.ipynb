{
 "cells": [
  {
   "cell_type": "markdown",
   "metadata": {},
   "source": [
    "**nice** se usa para ejecutar un programa con una prioridad modificada. En Linux, sólo root puede comenzar un proceso con una prioridad mayor. Para ver la prioridad de los procesos en ejecución usamos el siguiente comando:\n",
    "\n",
    "    $ ps -e -o pid,ni,pri,command\n",
    "\n",
    "La columna NI mostrará el valor nice, la columna PRI mostrará la prioridad dada por el planificador."
   ]
  },
  {
   "cell_type": "code",
   "execution_count": null,
   "metadata": {},
   "outputs": [],
   "source": [
    "%%bash\n",
    "ps -e -o pid,ni,pri,command"
   ]
  },
  {
   "cell_type": "markdown",
   "metadata": {},
   "source": [
    "Si ejecutamos nice en shell, imprimirá la prioridad de ese shell (que es heredado por cualquier proceso hijo). Si se quiere modificar la prioridad de un proceso se usa el siguiente comando:\n",
    "\n",
    "    $ nice -n <amount> <command>\n",
    "\n",
    "**amount** es la prioridad, siendo 19 la más baja y -20 la más alta\n",
    "\n",
    "Hay que ser root para poder ejecutar nice:\n",
    "\n",
    "    # nice -n -10 ls (o usando sudo)"
   ]
  },
  {
   "cell_type": "code",
   "execution_count": null,
   "metadata": {},
   "outputs": [],
   "source": [
    "%%bash\n",
    "nice -n -10 ls"
   ]
  },
  {
   "cell_type": "markdown",
   "metadata": {},
   "source": [
    "**renice** es un comando que sirve para cambiar la prioridad de un proceso en ejecución, su sintaxis es:\n",
    "\n",
    "    $ renice <value> <PID>\n",
    "    \n",
    ", que en definitiva establece el valor nice del proceso PID en **value**"
   ]
  },
  {
   "cell_type": "code",
   "execution_count": null,
   "metadata": {},
   "outputs": [],
   "source": [
    "%%bash\n",
    "nice -5 dd if=/dev/zero of=/dev/null &\n",
    "pId=$!\n",
    "ps -e -o pid,ni,pri,command | grep \"dd if\"\n",
    "kill ${pId}"
   ]
  },
  {
   "cell_type": "code",
   "execution_count": null,
   "metadata": {},
   "outputs": [],
   "source": [
    "%%bash\n",
    "dd if=/dev/zero of=/dev/null &\n",
    "pId=$!\n",
    "renice 3 ${pId}\n",
    "ps -e -o pid,ni,pri,command | grep \"dd if\"\n",
    "kill ${pId}"
   ]
  }
 ],
 "metadata": {
  "kernelspec": {
   "display_name": "Python 3",
   "language": "python",
   "name": "python3"
  },
  "language_info": {
   "codemirror_mode": {
    "name": "ipython",
    "version": 3
   },
   "file_extension": ".py",
   "mimetype": "text/x-python",
   "name": "python",
   "nbconvert_exporter": "python",
   "pygments_lexer": "ipython3",
   "version": "3.6.8"
  }
 },
 "nbformat": 4,
 "nbformat_minor": 2
}
